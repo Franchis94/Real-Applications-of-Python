{
 "cells": [
  {
   "cell_type": "code",
   "execution_count": 31,
   "metadata": {
    "collapsed": false
   },
   "outputs": [
    {
     "data": {
      "text/plain": [
       "'$725,000'"
      ]
     },
     "execution_count": 31,
     "metadata": {},
     "output_type": "execute_result"
    }
   ],
   "source": [
    "import requests\n",
    "from bs4 import BeautifulSoup\n",
    "\n",
    "\n",
    "r=requests.get(\"https://www.pythonhow.com/real-estate/rock-springs-wy/LCWYROCKSPRINGS/\")\n",
    "c=r.content\n",
    "\n",
    "soup=BeautifulSoup(c,\"html.parser\")\n",
    "\n",
    "all=soup.find_all(\"div\",{\"class\":\"propertyRow\"})\n",
    "\n",
    "all[0].find(\"h4\",{\"class\":\"propPrice\"}).text.replace(\"\\n\",\"\")\n",
    "\n"
   ]
  },
  {
   "cell_type": "code",
   "execution_count": 83,
   "metadata": {
    "collapsed": false
   },
   "outputs": [
    {
     "ename": "SyntaxError",
     "evalue": "invalid syntax (<ipython-input-83-c01f82e3aa5b>, line 31)",
     "output_type": "error",
     "traceback": [
      "\u001b[0;36m  File \u001b[0;32m\"<ipython-input-83-c01f82e3aa5b>\"\u001b[0;36m, line \u001b[0;32m31\u001b[0m\n\u001b[0;31m    if Lot Size\" in feature_group.text:\u001b[0m\n\u001b[0m              ^\u001b[0m\n\u001b[0;31mSyntaxError\u001b[0m\u001b[0;31m:\u001b[0m invalid syntax\n"
     ]
    }
   ],
   "source": [
    "for  item in all:\n",
    "    print(item.find(\"h4\",{\"class\":\"propPrice\"}).text.replace(\"\\n\",\"\"))\n",
    "    print(item.find_all(\"span\",{\"class\":\"propAddressCollapse\"})[0].text)\n",
    "    print(item.find_all(\"span\",{\"class\":\"propAddressCollapse\"})[1].text)\n",
    "    try:\n",
    "        print(item.find(\"span\",{\"class\":\"infoBed\"}).find(\"b\").text)\n",
    "    except :\n",
    "        print(\"None\")\n",
    "        \n",
    "        \n",
    "    try:\n",
    "        print(item.find(\"span\",{\"class\":\"infoSqFt\"}).find(\"b\").text+\" ft\")\n",
    "    except :\n",
    "        print(\"None\")\n",
    "        \n",
    "        \n",
    "    try:\n",
    "        print(item.find(\"span\",{\"class\":\"infoValueFullBath\"}).find(\"b\").text)\n",
    "    except :\n",
    "        print(\"None\")\n",
    "        \n",
    "        \n",
    "    try:\n",
    "        print(item.find(\"span\",{\"class\":\"infoValueHalfBath\"}).find(\"b\").text)\n",
    "    except :\n",
    "        print(\"None\")\n",
    "        \n",
    "    for data in item.find_all(\"div\",{\"class\":\"columnGroup\"}):\n",
    "        print(data)\n",
    "        for feature_group,feature_name in zip(data.find_all(\"span\",{\"class\":\"featureGroup\"}), data.find_all(\"span\",{\"class\":\"featureGroup\"})):\n",
    "            if Lot Size\" in feature_group.text:\n",
    "                print(feature_name.text)\n",
    "        \n",
    "    \n",
    "    print(\" \")\n",
    "    "
   ]
  },
  {
   "cell_type": "code",
   "execution_count": null,
   "metadata": {
    "collapsed": true
   },
   "outputs": [],
   "source": []
  },
  {
   "cell_type": "code",
   "execution_count": null,
   "metadata": {
    "collapsed": true
   },
   "outputs": [],
   "source": []
  },
  {
   "cell_type": "code",
   "execution_count": null,
   "metadata": {
    "collapsed": true
   },
   "outputs": [],
   "source": []
  },
  {
   "cell_type": "code",
   "execution_count": null,
   "metadata": {
    "collapsed": true
   },
   "outputs": [],
   "source": []
  },
  {
   "cell_type": "code",
   "execution_count": null,
   "metadata": {
    "collapsed": true
   },
   "outputs": [],
   "source": []
  }
 ],
 "metadata": {
  "kernelspec": {
   "display_name": "Python 3",
   "language": "python",
   "name": "python3"
  },
  "language_info": {
   "codemirror_mode": {
    "name": "ipython",
    "version": 3
   },
   "file_extension": ".py",
   "mimetype": "text/x-python",
   "name": "python",
   "nbconvert_exporter": "python",
   "pygments_lexer": "ipython3",
   "version": "3.6.3"
  }
 },
 "nbformat": 4,
 "nbformat_minor": 2
}

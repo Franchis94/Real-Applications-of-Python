{
 "cells": [
  {
   "cell_type": "code",
   "execution_count": 5,
   "metadata": {
    "collapsed": false
   },
   "outputs": [
    {
     "data": {
      "text/plain": [
       "'$725,000'"
      ]
     },
     "execution_count": 5,
     "metadata": {},
     "output_type": "execute_result"
    }
   ],
   "source": [
    "import requests\n",
    "from bs4 import BeautifulSoup\n",
    "\n",
    "\n",
    "r=requests.get(\"https://www.pythonhow.com/real-estate/rock-springs-wy/LCWYROCKSPRINGS/\")\n",
    "c=r.content\n",
    "\n",
    "soup=BeautifulSoup(c,\"html.parser\")\n",
    "\n",
    "all=soup.find_all(\"div\",{\"class\":\"propertyRow\"})\n",
    "\n",
    "all[0].find(\"h4\",{\"class\":\"propPrice\"}).text.replace(\"\\n\",\"\")\n",
    "\n"
   ]
  },
  {
   "cell_type": "code",
   "execution_count": 6,
   "metadata": {
    "collapsed": false
   },
   "outputs": [
    {
     "name": "stdout",
     "output_type": "stream",
     "text": [
      " \n",
      " \n",
      " \n",
      " \n",
      " \n",
      " \n",
      " \n",
      " \n",
      " \n",
      " \n"
     ]
    }
   ],
   "source": [
    "l=[]\n",
    "for  item in all:\n",
    "    d={}\n",
    "    d[\"Price\"]=item.find(\"h4\",{\"class\":\"propPrice\"}).text.replace(\"\\n\",\"\")\n",
    "    \n",
    "    d[\"Address\"]=item.find_all(\"span\",{\"class\":\"propAddressCollapse\"})[0].text\n",
    "    d[\"Locality\"]=item.find_all(\"span\",{\"class\":\"propAddressCollapse\"})[1].text\n",
    "    try:\n",
    "        d[\"Beds\"]=item.find(\"span\",{\"class\":\"infoBed\"}).find(\"b\").text\n",
    "    except :\n",
    "        d[\"Beds\"]=None\n",
    "        \n",
    "        \n",
    "    try:\n",
    "        d[\"Area\"]=item.find(\"span\",{\"class\":\"infoSqFt\"}).find(\"b\").text\n",
    "    except :\n",
    "        d[\"Area\"]=None\n",
    "        \n",
    "        \n",
    "    try:\n",
    "        d[\"Baths\"]=item.find(\"span\",{\"class\":\"infoValueFullBath\"}).find(\"b\").text\n",
    "    except :\n",
    "        d[\"Baths\"]=None\n",
    "        \n",
    "        \n",
    "    try:\n",
    "        d[\"Half Bath\"]=item.find(\"span\",{\"class\":\"infoValueHalfBath\"}).find(\"b\").text\n",
    "    except :\n",
    "        d[\"Half Bath\"]=None\n",
    "        \n",
    "    for data in item.find_all(\"div\",{\"class\":\"columnGroup\"}):\n",
    "        #print(data)\n",
    "        for feature_group,feature_name in zip(data.find_all(\"span\",{\"class\":\"featureGroup\"}), data.find_all(\"span\",{\"class\":\"featureName\"})):\n",
    "            if \"Lot Size\" in feature_group.text :\n",
    "                d[\"Features\"]=feature_name.text\n",
    "     \n",
    "    l.append(d)\n",
    "    \n",
    "    print(\" \")\n",
    "    "
   ]
  },
  {
   "cell_type": "code",
   "execution_count": 9,
   "metadata": {
    "collapsed": false
   },
   "outputs": [
    {
     "data": {
      "text/html": [
       "<div>\n",
       "<style scoped>\n",
       "    .dataframe tbody tr th:only-of-type {\n",
       "        vertical-align: middle;\n",
       "    }\n",
       "\n",
       "    .dataframe tbody tr th {\n",
       "        vertical-align: top;\n",
       "    }\n",
       "\n",
       "    .dataframe thead th {\n",
       "        text-align: right;\n",
       "    }\n",
       "</style>\n",
       "<table border=\"1\" class=\"dataframe\">\n",
       "  <thead>\n",
       "    <tr style=\"text-align: right;\">\n",
       "      <th></th>\n",
       "      <th>Address</th>\n",
       "      <th>Area</th>\n",
       "      <th>Baths</th>\n",
       "      <th>Beds</th>\n",
       "      <th>Features</th>\n",
       "      <th>Half Bath</th>\n",
       "      <th>Locality</th>\n",
       "      <th>Price</th>\n",
       "    </tr>\n",
       "  </thead>\n",
       "  <tbody>\n",
       "    <tr>\n",
       "      <th>0</th>\n",
       "      <td>0 Gateway</td>\n",
       "      <td>None</td>\n",
       "      <td>None</td>\n",
       "      <td>None</td>\n",
       "      <td>NaN</td>\n",
       "      <td>None</td>\n",
       "      <td>Rock Springs, WY 82901</td>\n",
       "      <td>$725,000</td>\n",
       "    </tr>\n",
       "    <tr>\n",
       "      <th>1</th>\n",
       "      <td>1003 Winchester Blvd.</td>\n",
       "      <td>None</td>\n",
       "      <td>4</td>\n",
       "      <td>4</td>\n",
       "      <td>0.21 Acres</td>\n",
       "      <td>None</td>\n",
       "      <td>Rock Springs, WY 82901</td>\n",
       "      <td>$452,900</td>\n",
       "    </tr>\n",
       "    <tr>\n",
       "      <th>2</th>\n",
       "      <td>600 Talladega</td>\n",
       "      <td>3,154</td>\n",
       "      <td>3</td>\n",
       "      <td>5</td>\n",
       "      <td>NaN</td>\n",
       "      <td>None</td>\n",
       "      <td>Rock Springs, WY 82901</td>\n",
       "      <td>$396,900</td>\n",
       "    </tr>\n",
       "    <tr>\n",
       "      <th>3</th>\n",
       "      <td>3239 Spearhead Way</td>\n",
       "      <td>3,076</td>\n",
       "      <td>3</td>\n",
       "      <td>4</td>\n",
       "      <td>Under 1/2 Acre,</td>\n",
       "      <td>1</td>\n",
       "      <td>Rock Springs, WY 82901</td>\n",
       "      <td>$389,900</td>\n",
       "    </tr>\n",
       "    <tr>\n",
       "      <th>4</th>\n",
       "      <td>522 Emerald Street</td>\n",
       "      <td>1,172</td>\n",
       "      <td>3</td>\n",
       "      <td>3</td>\n",
       "      <td>Under 1/2 Acre,</td>\n",
       "      <td>None</td>\n",
       "      <td>Rock Springs, WY 82901</td>\n",
       "      <td>$254,000</td>\n",
       "    </tr>\n",
       "    <tr>\n",
       "      <th>5</th>\n",
       "      <td>1302 Veteran's Drive</td>\n",
       "      <td>1,932</td>\n",
       "      <td>2</td>\n",
       "      <td>4</td>\n",
       "      <td>0.27 Acres</td>\n",
       "      <td>None</td>\n",
       "      <td>Rock Springs, WY 82901</td>\n",
       "      <td>$252,900</td>\n",
       "    </tr>\n",
       "    <tr>\n",
       "      <th>6</th>\n",
       "      <td>1021 Cypress Cir</td>\n",
       "      <td>1,676</td>\n",
       "      <td>3</td>\n",
       "      <td>4</td>\n",
       "      <td>Under 1/2 Acre,</td>\n",
       "      <td>None</td>\n",
       "      <td>Rock Springs, WY 82901</td>\n",
       "      <td>$210,000</td>\n",
       "    </tr>\n",
       "    <tr>\n",
       "      <th>7</th>\n",
       "      <td>913 Madison Dr</td>\n",
       "      <td>1,344</td>\n",
       "      <td>2</td>\n",
       "      <td>3</td>\n",
       "      <td>Under 1/2 Acre,</td>\n",
       "      <td>None</td>\n",
       "      <td>Rock Springs, WY 82901</td>\n",
       "      <td>$209,000</td>\n",
       "    </tr>\n",
       "    <tr>\n",
       "      <th>8</th>\n",
       "      <td>1344 Teton Street</td>\n",
       "      <td>1,920</td>\n",
       "      <td>2</td>\n",
       "      <td>3</td>\n",
       "      <td>Under 1/2 Acre,</td>\n",
       "      <td>None</td>\n",
       "      <td>Rock Springs, WY 82901</td>\n",
       "      <td>$199,900</td>\n",
       "    </tr>\n",
       "    <tr>\n",
       "      <th>9</th>\n",
       "      <td>4 Minnies Lane</td>\n",
       "      <td>1,664</td>\n",
       "      <td>2</td>\n",
       "      <td>3</td>\n",
       "      <td>2.02 Acres</td>\n",
       "      <td>None</td>\n",
       "      <td>Rock Springs, WY 82901</td>\n",
       "      <td>$196,900</td>\n",
       "    </tr>\n",
       "  </tbody>\n",
       "</table>\n",
       "</div>"
      ],
      "text/plain": [
       "                 Address   Area Baths  Beds          Features Half Bath  \\\n",
       "0              0 Gateway   None  None  None               NaN      None   \n",
       "1  1003 Winchester Blvd.   None     4     4        0.21 Acres      None   \n",
       "2          600 Talladega  3,154     3     5               NaN      None   \n",
       "3     3239 Spearhead Way  3,076     3     4  Under 1/2 Acre,          1   \n",
       "4     522 Emerald Street  1,172     3     3  Under 1/2 Acre,       None   \n",
       "5   1302 Veteran's Drive  1,932     2     4        0.27 Acres      None   \n",
       "6       1021 Cypress Cir  1,676     3     4  Under 1/2 Acre,       None   \n",
       "7         913 Madison Dr  1,344     2     3  Under 1/2 Acre,       None   \n",
       "8      1344 Teton Street  1,920     2     3  Under 1/2 Acre,       None   \n",
       "9         4 Minnies Lane  1,664     2     3        2.02 Acres      None   \n",
       "\n",
       "                 Locality     Price  \n",
       "0  Rock Springs, WY 82901  $725,000  \n",
       "1  Rock Springs, WY 82901  $452,900  \n",
       "2  Rock Springs, WY 82901  $396,900  \n",
       "3  Rock Springs, WY 82901  $389,900  \n",
       "4  Rock Springs, WY 82901  $254,000  \n",
       "5  Rock Springs, WY 82901  $252,900  \n",
       "6  Rock Springs, WY 82901  $210,000  \n",
       "7  Rock Springs, WY 82901  $209,000  \n",
       "8  Rock Springs, WY 82901  $199,900  \n",
       "9  Rock Springs, WY 82901  $196,900  "
      ]
     },
     "execution_count": 9,
     "metadata": {},
     "output_type": "execute_result"
    }
   ],
   "source": [
    "import pandas \n",
    "df=pandas.DataFrame(l)\n",
    "df.to_csv(\"cen\")"
   ]
  },
  {
   "cell_type": "code",
   "execution_count": null,
   "metadata": {
    "collapsed": true
   },
   "outputs": [],
   "source": []
  },
  {
   "cell_type": "code",
   "execution_count": null,
   "metadata": {
    "collapsed": true
   },
   "outputs": [],
   "source": []
  },
  {
   "cell_type": "code",
   "execution_count": null,
   "metadata": {
    "collapsed": true
   },
   "outputs": [],
   "source": []
  },
  {
   "cell_type": "code",
   "execution_count": null,
   "metadata": {
    "collapsed": true
   },
   "outputs": [],
   "source": []
  }
 ],
 "metadata": {
  "kernelspec": {
   "display_name": "Python 3",
   "language": "python",
   "name": "python3"
  },
  "language_info": {
   "codemirror_mode": {
    "name": "ipython",
    "version": 3
   },
   "file_extension": ".py",
   "mimetype": "text/x-python",
   "name": "python",
   "nbconvert_exporter": "python",
   "pygments_lexer": "ipython3",
   "version": "3.6.3"
  }
 },
 "nbformat": 4,
 "nbformat_minor": 2
}

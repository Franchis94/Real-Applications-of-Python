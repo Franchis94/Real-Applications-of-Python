{
 "cells": [
  {
   "cell_type": "code",
   "execution_count": null,
   "metadata": {
    "collapsed": false
   },
   "outputs": [],
   "source": [
    "from pandas_datareader import data\n",
    "import datetime\n",
    "from bokeh.plotting import figure,show,output_file\n",
    "\n",
    "start=datetime.datetime(2018,5,1)\n",
    "end=datetime.datetime(2018,5,31)\n",
    "\n",
    "df=data.DataReader(name=\"GOOG\",data_source=\"yahoo\",start=start,end=end)\n",
    "df\n",
    "\n",
    "f=figure(title=\"CandleStick Chart\",x_axis_type='datetime',width=1700,height=700)\n",
    "\n",
    "f.grid.grid_line_alpha=0.3\n",
    "f.segment(df.index,df.High,df.index,df.Low)\n",
    "\n",
    "\n",
    "def inc_dec(c,o):\n",
    "    if c>o:\n",
    "        status=\"Increase\"\n",
    "    elif c<o:\n",
    "        status=\"Decrease\"\n",
    "    else :\n",
    "        status=\"NO Change\"\n",
    "    return status\n",
    "\n",
    "\n",
    "\n",
    "df[\"Status\"]=[inc_dec(c,o) for c,o in zip(df.Close,df.Open)]\n",
    "df[\"Status\"]\n",
    "hrs_12=12*60*60*1000\n",
    "\n",
    "\n",
    "df[\"Middle\"]=(df.Open+df.Close)/2\n",
    "df[\"Height\"]=abs(df.Open-df.Close)\n",
    "df"
   ]
  },
  {
   "cell_type": "code",
   "execution_count": 82,
   "metadata": {
    "collapsed": false
   },
   "outputs": [],
   "source": [
    "f.rect(df.index[df.Status==\"Increase\"],df.Middle[df.Status==\"Increase\"],hrs_12,\n",
    "       df.Height[df.Status==\"Increase\"],fill_color=\"blue\",line_color=\"black\")\n",
    "\n",
    "f.rect(df.index[df.Status==\"Decrease\"],df.Middle[df.Status==\"Decrease\"],\n",
    "       hrs_12,df.Height[df.Status==\"Decrease\"],fill_color=\"red\",line_color=\"black\")\n",
    "\n",
    "output_file(\"CandleStick_graph.html\")\n",
    "show(f)"
   ]
  }
 ],
 "metadata": {
  "kernelspec": {
   "display_name": "Python 3",
   "language": "python",
   "name": "python3"
  },
  "language_info": {
   "codemirror_mode": {
    "name": "ipython",
    "version": 3
   },
   "file_extension": ".py",
   "mimetype": "text/x-python",
   "name": "python",
   "nbconvert_exporter": "python",
   "pygments_lexer": "ipython3",
   "version": "3.6.3"
  }
 },
 "nbformat": 4,
 "nbformat_minor": 2
}
